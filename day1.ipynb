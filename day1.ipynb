{
 "cells": [
  {
   "cell_type": "code",
   "execution_count": 100,
   "id": "80d49c0f",
   "metadata": {},
   "outputs": [],
   "source": [
    "with open('input_day1.txt') as f:\n",
    "    lines = f.readlines()"
   ]
  },
  {
   "cell_type": "code",
   "execution_count": 101,
   "id": "907a309c",
   "metadata": {},
   "outputs": [
    {
     "name": "stdout",
     "output_type": "stream",
     "text": [
      "1462\n"
     ]
    }
   ],
   "source": [
    "#task 1\n",
    "no_increases = 0\n",
    "\n",
    "for x in range(len(lines)):\n",
    "    if x > 0: \n",
    "        if int(lines[x]) > int(lines[x-1]): \n",
    "            no_increases += 1\n",
    "            \n",
    "print(no_increases)"
   ]
  },
  {
   "cell_type": "code",
   "execution_count": 103,
   "id": "262152ee",
   "metadata": {},
   "outputs": [
    {
     "name": "stdout",
     "output_type": "stream",
     "text": [
      "1497\n"
     ]
    }
   ],
   "source": [
    "#task 2\n",
    "no_increases = 0\n",
    "\n",
    "for x in range(len(lines)):\n",
    "    if x < len(lines)-3:\n",
    "        sum1 = int(lines[x]) + int(lines[x+1]) + int(lines[x+2])\n",
    "        sum2 = int(lines[x+1]) + int(lines[x+2]) + int(lines[x+3])\n",
    "        if sum2 > sum1: \n",
    "            no_increases += 1\n",
    "            \n",
    "print(no_increases)"
   ]
  }
 ],
 "metadata": {
  "kernelspec": {
   "display_name": "Python 3",
   "language": "python",
   "name": "python3"
  },
  "language_info": {
   "codemirror_mode": {
    "name": "ipython",
    "version": 3
   },
   "file_extension": ".py",
   "mimetype": "text/x-python",
   "name": "python",
   "nbconvert_exporter": "python",
   "pygments_lexer": "ipython3",
   "version": "3.8.2"
  }
 },
 "nbformat": 4,
 "nbformat_minor": 5
}
