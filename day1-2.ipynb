{
 "cells": [
  {
   "cell_type": "markdown",
   "id": "9acacc9c",
   "metadata": {},
   "source": [
    "# Day 1"
   ]
  },
  {
   "cell_type": "code",
   "execution_count": 2,
   "id": "80d49c0f",
   "metadata": {},
   "outputs": [],
   "source": [
    "with open('input_day1.txt') as f:\n",
    "    lines = f.readlines()"
   ]
  },
  {
   "cell_type": "code",
   "execution_count": 3,
   "id": "907a309c",
   "metadata": {},
   "outputs": [
    {
     "name": "stdout",
     "output_type": "stream",
     "text": [
      "1462\n"
     ]
    }
   ],
   "source": [
    "#part 1\n",
    "no_increases = 0\n",
    "\n",
    "for x in range(len(lines)):\n",
    "    if x > 0: \n",
    "        if int(lines[x]) > int(lines[x-1]): \n",
    "            no_increases += 1\n",
    "            \n",
    "print(no_increases)"
   ]
  },
  {
   "cell_type": "code",
   "execution_count": 4,
   "id": "262152ee",
   "metadata": {},
   "outputs": [
    {
     "name": "stdout",
     "output_type": "stream",
     "text": [
      "1497\n"
     ]
    }
   ],
   "source": [
    "#part 2\n",
    "no_increases = 0\n",
    "\n",
    "for x in range(len(lines)):\n",
    "    if x < len(lines)-3:\n",
    "        sum1 = int(lines[x]) + int(lines[x+1]) + int(lines[x+2])\n",
    "        sum2 = int(lines[x+1]) + int(lines[x+2]) + int(lines[x+3])\n",
    "        if sum2 > sum1: \n",
    "            no_increases += 1\n",
    "            \n",
    "print(no_increases)"
   ]
  },
  {
   "cell_type": "markdown",
   "id": "96a60451",
   "metadata": {},
   "source": [
    "# Day 2"
   ]
  },
  {
   "cell_type": "code",
   "execution_count": 5,
   "id": "6939b0d5",
   "metadata": {},
   "outputs": [],
   "source": [
    "with open('input_day2.txt') as f:\n",
    "    lines2 = f.readlines()"
   ]
  },
  {
   "cell_type": "code",
   "execution_count": 20,
   "id": "aa78398c",
   "metadata": {},
   "outputs": [
    {
     "name": "stdout",
     "output_type": "stream",
     "text": [
      "2187380\n"
     ]
    }
   ],
   "source": [
    "#task 1\n",
    "horizontal = 0 \n",
    "depth = 0 \n",
    "\n",
    "for x in range(len(lines2)):\n",
    "    prefix = lines2[x][:-3]\n",
    "    number = int(lines2[x][-2:-1])\n",
    "    if prefix == 'forward':\n",
    "        horizontal += number\n",
    "    elif prefix == 'down':\n",
    "        depth += number\n",
    "    elif prefix == 'up':\n",
    "        depth -= number\n",
    "\n",
    "print(horizontal*depth)"
   ]
  },
  {
   "cell_type": "code",
   "execution_count": 21,
   "id": "8fe700c5",
   "metadata": {},
   "outputs": [
    {
     "name": "stdout",
     "output_type": "stream",
     "text": [
      "2086357770\n"
     ]
    }
   ],
   "source": [
    "#task 2\n",
    "horizontal = 0 \n",
    "depth = 0 \n",
    "aim = 0 \n",
    "\n",
    "for x in range(len(lines2)):\n",
    "    prefix = lines2[x][:-3]\n",
    "    number = int(lines2[x][-2:-1])\n",
    "    if prefix == 'forward':\n",
    "        horizontal += number\n",
    "        depth += aim * number \n",
    "    elif prefix == 'down':\n",
    "        aim += number\n",
    "    elif prefix == 'up':\n",
    "        aim -= number\n",
    "\n",
    "print(horizontal*depth)"
   ]
  }
 ],
 "metadata": {
  "kernelspec": {
   "display_name": "Python 3",
   "language": "python",
   "name": "python3"
  },
  "language_info": {
   "codemirror_mode": {
    "name": "ipython",
    "version": 3
   },
   "file_extension": ".py",
   "mimetype": "text/x-python",
   "name": "python",
   "nbconvert_exporter": "python",
   "pygments_lexer": "ipython3",
   "version": "3.8.2"
  }
 },
 "nbformat": 4,
 "nbformat_minor": 5
}
